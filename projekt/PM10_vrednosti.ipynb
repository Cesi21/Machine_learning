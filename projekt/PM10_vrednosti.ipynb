{
 "cells": [
  {
   "cell_type": "code",
   "execution_count": 1,
   "metadata": {},
   "outputs": [
    {
     "data": {
      "text/plain": [
       "[83.0,\n",
       " 60.0,\n",
       " 60.0,\n",
       " 42.0,\n",
       " 42.0,\n",
       " 51.0,\n",
       " 51.0,\n",
       " 47.0,\n",
       " 47.0,\n",
       " 37.0,\n",
       " 37.0,\n",
       " 37.0,\n",
       " 37.0,\n",
       " 52.0,\n",
       " 52.0,\n",
       " 60.0,\n",
       " 60.0,\n",
       " 52.0,\n",
       " 52.0,\n",
       " 35.0,\n",
       " 35.0,\n",
       " 40.0,\n",
       " 40.0,\n",
       " 37.0,\n",
       " 37.0,\n",
       " 31.0,\n",
       " 31.0,\n",
       " 28.0,\n",
       " 28.0,\n",
       " 32.0,\n",
       " 32.0,\n",
       " 39.0,\n",
       " 39.0,\n",
       " 66.0,\n",
       " 66.0,\n",
       " 73.0,\n",
       " 73.0,\n",
       " 90.0,\n",
       " 90.0,\n",
       " 68.0,\n",
       " 68.0,\n",
       " 76.0,\n",
       " 76.0,\n",
       " 65.0,\n",
       " 65.0,\n",
       " 61.0,\n",
       " 61.0,\n",
       " 44.0,\n",
       " 44.0,\n",
       " 46.0,\n",
       " 46.0,\n",
       " 36.0,\n",
       " 36.0,\n",
       " 26.0,\n",
       " 26.0,\n",
       " 36.0,\n",
       " 36.0,\n",
       " 36.0,\n",
       " 36.0,\n",
       " 45.0,\n",
       " 45.0,\n",
       " 35.0,\n",
       " 35.0,\n",
       " 53.0]"
      ]
     },
     "execution_count": 1,
     "metadata": {},
     "output_type": "execute_result"
    }
   ],
   "source": [
    "import pandas as pd\n",
    "\n",
    "\n",
    "df = pd.read_csv('neki.csv')\n",
    "\n",
    "start = 10  \n",
    "end = 74    \n",
    "\n",
    "pm10_values = df['PM10'][start:end].tolist()\n",
    "pm10_values"
   ]
  }
 ],
 "metadata": {
  "kernelspec": {
   "display_name": "Python 3",
   "language": "python",
   "name": "python3"
  },
  "language_info": {
   "codemirror_mode": {
    "name": "ipython",
    "version": 3
   },
   "file_extension": ".py",
   "mimetype": "text/x-python",
   "name": "python",
   "nbconvert_exporter": "python",
   "pygments_lexer": "ipython3",
   "version": "3.9.0"
  }
 },
 "nbformat": 4,
 "nbformat_minor": 2
}
