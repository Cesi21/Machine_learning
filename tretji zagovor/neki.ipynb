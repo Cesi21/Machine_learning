{
 "cells": [
  {
   "cell_type": "code",
   "execution_count": null,
   "metadata": {},
   "outputs": [],
   "source": [
    "import pandas as pd\n",
    "\n",
    "data = pd.read_csv('mbajk.csv')\n",
    "\n",
    "data.sort_values(by='date', inplace=True)\n",
    "data = data[['available_bike_stands']]\n",
    "a = 0\n",
    "while a < 186:\n",
    "    a = a + 1\n",
    "    print(data[a])"
   ]
  }
 ],
 "metadata": {
  "language_info": {
   "name": "python"
  }
 },
 "nbformat": 4,
 "nbformat_minor": 2
}
